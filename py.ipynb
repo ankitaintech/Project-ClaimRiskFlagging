{
 "cells": [
  {
   "cell_type": "code",
   "execution_count": 2,
   "id": "ac73e8f1-8e13-459b-bd21-95ca775d0b96",
   "metadata": {
    "tags": []
   },
   "outputs": [],
   "source": [
    "import numpy as np\n",
    "import joblib\n",
    "\n",
    "\n",
    "def get_model_prediction(EngineHP, credit_history, Years_Experience, annual_claims, Miles_driven_annually, size_of_family, Gender, Marital_Status, Vehical_type, Age_bucket, State):\n",
    "    X = [EngineHP, credit_history, Years_Experience, annual_claims,Miles_driven_annually, size_of_family, Gender,Marital_Status, Vehical_type, Age_bucket, State]\n",
    "    X = np.array(X).reshape(1, -1)\n",
    "\n",
    "    loaded_model = joblib.load('clf_model.pkl')\n",
    "    predictions = loaded_model.predict(X)\n",
    "\n",
    "\n",
    "    return predictions"
   ]
  },
  {
   "cell_type": "code",
   "execution_count": 16,
   "id": "47c29b24-e624-4289-aad5-230774b72e8e",
   "metadata": {
    "tags": []
   },
   "outputs": [
    {
     "name": "stderr",
     "output_type": "stream",
     "text": [
      "C:\\Users\\conta\\anaconda3\\Lib\\site-packages\\sklearn\\base.py:493: UserWarning: X does not have valid feature names, but GradientBoostingClassifier was fitted with feature names\n",
      "  warnings.warn(\n"
     ]
    }
   ],
   "source": [
    "predictions = get_model_prediction(522.0, 656, 1.0, 0, 14750, 5, 1, 2, 0, 3, 17)"
   ]
  },
  {
   "cell_type": "code",
   "execution_count": 14,
   "id": "ad217839-1567-4b3a-86c6-6bdcc345e6b1",
   "metadata": {
    "tags": []
   },
   "outputs": [
    {
     "name": "stdout",
     "output_type": "stream",
     "text": [
      "[0]\n"
     ]
    }
   ],
   "source": [
    "print (predictions)"
   ]
  },
  {
   "cell_type": "code",
   "execution_count": null,
   "id": "6ff1701a-d04f-4a2c-812f-46d6819b7c2c",
   "metadata": {},
   "outputs": [],
   "source": []
  }
 ],
 "metadata": {
  "kernelspec": {
   "display_name": "Python 3 (ipykernel)",
   "language": "python",
   "name": "python3"
  },
  "language_info": {
   "codemirror_mode": {
    "name": "ipython",
    "version": 3
   },
   "file_extension": ".py",
   "mimetype": "text/x-python",
   "name": "python",
   "nbconvert_exporter": "python",
   "pygments_lexer": "ipython3",
   "version": "3.11.5"
  }
 },
 "nbformat": 4,
 "nbformat_minor": 5
}
